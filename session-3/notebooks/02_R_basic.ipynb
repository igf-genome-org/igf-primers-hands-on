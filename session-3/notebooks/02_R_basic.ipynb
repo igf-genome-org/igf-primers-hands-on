{
 "cells": [
  {
   "cell_type": "markdown",
   "id": "fe401836-2e6f-4122-b3c4-7320f1e72607",
   "metadata": {},
   "source": [
    "# 🧪 Visualizing Biological Data with ggplot2 in R\n",
    "## 💡 Introduction\n",
    "In this notebook, we will explore the classic iris dataset, which is commonly used to demonstrate basic data analysis and visualization techniques in R. While this dataset represents measurements of flower parts, the same principles apply when visualizing gene expression data, sequencing results, or other biological measurements.\n",
    "\n",
    "## ⚙️ Load R Environment in Jupyter"
   ]
  },
  {
   "cell_type": "code",
   "execution_count": null,
   "id": "38566473-d481-4f05-9eff-5379b1b13233",
   "metadata": {},
   "outputs": [],
   "source": [
    "%load_ext rpy2.ipython"
   ]
  },
  {
   "cell_type": "markdown",
   "id": "38e3d1b5-6e36-43e1-b9b8-0a8efdac0218",
   "metadata": {},
   "source": [
    "## 📦 Load the iris Dataset"
   ]
  },
  {
   "cell_type": "code",
   "execution_count": null,
   "id": "0ba0a2fc-8a69-4c00-bcac-d657b92ecd8f",
   "metadata": {},
   "outputs": [],
   "source": [
    "%%R\n",
    "data(iris)"
   ]
  },
  {
   "cell_type": "markdown",
   "id": "c584a4c5-535b-4f4a-bb8d-bfec73c2c06e",
   "metadata": {},
   "source": [
    "Let’s inspect the first few rows to understand the structure."
   ]
  },
  {
   "cell_type": "code",
   "execution_count": null,
   "id": "138065a7-37b9-46d3-b3eb-9d7c1ea3104d",
   "metadata": {},
   "outputs": [],
   "source": [
    "%%R\n",
    "head(iris)"
   ]
  },
  {
   "cell_type": "markdown",
   "id": "a904616e-048a-4afc-88e2-b24e4f601c2e",
   "metadata": {},
   "source": [
    "## 🔍 Explore the Dataset Structure"
   ]
  },
  {
   "cell_type": "code",
   "execution_count": null,
   "id": "35aea2e2-f6e5-4b0c-93a2-1e7586ec5f90",
   "metadata": {},
   "outputs": [],
   "source": [
    "%%R\n",
    "# View first 3 rows\n",
    "iris[1:3,]"
   ]
  },
  {
   "cell_type": "code",
   "execution_count": null,
   "id": "a8e3c905-e553-4908-9787-28b4560964cb",
   "metadata": {},
   "outputs": [],
   "source": [
    "%%R\n",
    "# View a subset of columns: only Sepal.Length, Sepal.Width, Petal.Length\n",
    "iris[1:3,1:3]"
   ]
  },
  {
   "cell_type": "markdown",
   "id": "1f971a5e-b707-41a2-ad95-513cc0e54f39",
   "metadata": {},
   "source": [
    "Check the column names to understand the variables available:"
   ]
  },
  {
   "cell_type": "code",
   "execution_count": null,
   "id": "5a1d932e-66e7-46b5-80a7-040424bc8531",
   "metadata": {},
   "outputs": [],
   "source": [
    "%%R\n",
    "colnames(iris)"
   ]
  },
  {
   "cell_type": "code",
   "execution_count": null,
   "id": "a5d3cef2-8f3a-4cf2-ae7b-74d13c8e4837",
   "metadata": {},
   "outputs": [],
   "source": [
    "%%R\n",
    "colnames(iris)[c(1,3,4)]"
   ]
  },
  {
   "cell_type": "code",
   "execution_count": null,
   "id": "a6c19e19-d4e9-4ca8-ada8-38d3c1f24551",
   "metadata": {},
   "outputs": [],
   "source": [
    "%%R\n",
    "head(iris[,c(1,3,4)])"
   ]
  },
  {
   "cell_type": "markdown",
   "id": "5cfc2a91-c9ba-495a-8c8c-940720da5a79",
   "metadata": {},
   "source": [
    "## 🎨 Basic Data Visualization with ggplot2\n",
    "First, load the necessary library:"
   ]
  },
  {
   "cell_type": "code",
   "execution_count": null,
   "id": "4039ab8a-9412-4df2-833c-ec2a20b57a5a",
   "metadata": {},
   "outputs": [],
   "source": [
    "%%R\n",
    "\n",
    "#install.packages('ggplot2')\n",
    "library(ggplot2)\n",
    "\n",
    "# install.packages('ggforce')  # Uncomment if not installed\n",
    "library(ggforce)"
   ]
  },
  {
   "cell_type": "markdown",
   "id": "32b31d09-ee33-4f89-85ee-83f65687534d",
   "metadata": {},
   "source": [
    "### 1️⃣ Basic Scatter Plot\n",
    "Let’s plot Sepal Length vs Sepal Width, colored and shaped by Species:"
   ]
  },
  {
   "cell_type": "code",
   "execution_count": null,
   "id": "0e3d7ed2-0977-465b-9d74-3ed337e0f0a4",
   "metadata": {},
   "outputs": [],
   "source": [
    "%%R\n",
    "ggplot(iris) + \n",
    "  geom_point(aes(x = Sepal.Length, y = Sepal.Width,\n",
    "                 col = Species, shape = Species)) +\n",
    "  labs(title = \"Sepal Dimensions by Species\",\n",
    "       x = \"Sepal Length (cm)\",\n",
    "       y = \"Sepal Width (cm)\",\n",
    "       color = \"Species\",\n",
    "       shape = \"Species\") +\n",
    "  theme_minimal()"
   ]
  },
  {
   "cell_type": "markdown",
   "id": "011fa825-0891-4b82-b439-7528d1a13169",
   "metadata": {},
   "source": [
    "### 2️⃣ Encoding More Dimensions (Size, Color Gradient)\n",
    "We can encode 5 variables in one plot:\n",
    "- `x`: Sepal.Length\n",
    "- `y`: Sepal.Width\n",
    "- `color`: Petal.Width (continuous)\n",
    "- `size`: Petal.Length (continuous)\n",
    "- `shape`: Species (categorical)"
   ]
  },
  {
   "cell_type": "code",
   "execution_count": null,
   "id": "3dd2907d-a6da-4284-b313-06c955870efa",
   "metadata": {},
   "outputs": [],
   "source": [
    "%%R\n",
    "ggplot(iris) + \n",
    "  geom_point(aes(x = Sepal.Length, y = Sepal.Width,\n",
    "                 col = Petal.Width, shape = Species, size = Petal.Length)) +\n",
    "  scale_color_viridis_c() +\n",
    "  labs(title = \"Iris Data with Encoded Petal Traits\",\n",
    "       x = \"Sepal Length\",\n",
    "       y = \"Sepal Width\",\n",
    "       color = \"Petal Width\",\n",
    "       size = \"Petal Length\") +\n",
    "  theme_classic()"
   ]
  },
  {
   "cell_type": "markdown",
   "id": "6dbce203-0c61-4dc4-9a6b-8dcfeb1fa4e6",
   "metadata": {},
   "source": [
    "### 3️⃣ Flip the Axes (Petal Dimensions on X/Y)"
   ]
  },
  {
   "cell_type": "code",
   "execution_count": null,
   "id": "625b09f1-713d-48fd-bee9-009f6e4c9d24",
   "metadata": {},
   "outputs": [],
   "source": [
    "%%R\n",
    "ggplot(iris) + \n",
    "  geom_point(aes(x = Petal.Length, y = Petal.Width,\n",
    "                 col = Sepal.Width, shape = Species, size = Sepal.Length)) +\n",
    "  scale_color_viridis_c() +\n",
    "  labs(title = \"Petal Size Distribution by Species\",\n",
    "       x = \"Petal Length\",\n",
    "       y = \"Petal Width\",\n",
    "       color = \"Sepal Width\",\n",
    "       size = \"Sepal Length\") +\n",
    "  theme_light()"
   ]
  },
  {
   "cell_type": "markdown",
   "id": "300c3929-7578-4310-91e3-81f0fc612990",
   "metadata": {},
   "source": [
    "### 4️⃣ Visualizing Distributions with Segments"
   ]
  },
  {
   "cell_type": "code",
   "execution_count": null,
   "id": "39277857-9bc5-4965-91eb-a301c6f61335",
   "metadata": {},
   "outputs": [],
   "source": [
    "%%R\n",
    "ggplot(iris) +\n",
    "  geom_segment(aes(x = 1:nrow(iris), y = 0,\n",
    "                   xend = 1:nrow(iris), yend = Petal.Length,\n",
    "                   col = Species)) +\n",
    "  labs(title = \"Petal Length Distribution Across Samples\",\n",
    "       x = \"Sample Index\", y = \"Petal Length (cm)\",\n",
    "       color = \"Species\") +\n",
    "  theme_minimal()\n"
   ]
  },
  {
   "cell_type": "markdown",
   "id": "bd7af62e-441f-4089-9c48-dd942ef13c93",
   "metadata": {},
   "source": [
    "### 5️⃣ 📏 Cluster Visualization Using ggforce\n",
    "Ellipses can help visualize grouping or clustering based on species."
   ]
  },
  {
   "cell_type": "code",
   "execution_count": null,
   "id": "b4611428-1233-454c-a44d-718b1e16af37",
   "metadata": {},
   "outputs": [],
   "source": [
    "%%R\n",
    "ggplot(iris) + \n",
    "  geom_point(aes(x = Sepal.Length, y = Sepal.Width)) +\n",
    "  geom_mark_ellipse(aes(x = Sepal.Length, y = Sepal.Width, fill = Species))\n",
    "\n",
    "  "
   ]
  },
  {
   "cell_type": "markdown",
   "id": "708edf3b-bd99-408d-8bfd-85db57e3ca0c",
   "metadata": {},
   "source": [
    "## 🧠 Summary\n",
    "\n",
    "| What We Learned            | Description                                                              |\n",
    "|:----------------------------|:-------------------------------------------------------------------------|\n",
    "| Data loading and subsetting | Used `iris` dataset and explored columns                                 |\n",
    "| ggplot2 basics              | Created scatter plots with `geom_point()`                                |\n",
    "| Advanced aesthetics         | Mapped multiple variables using `color`, `size`, `shape`                 |\n",
    "| Clustering visualization    | Used `ggforce::geom_mark_ellipse()` to highlight groups                  |\n"
   ]
  }
 ],
 "metadata": {
  "kernelspec": {
   "display_name": "Python 3 (ipykernel)",
   "language": "python",
   "name": "python3"
  },
  "language_info": {
   "codemirror_mode": {
    "name": "ipython",
    "version": 3
   },
   "file_extension": ".py",
   "mimetype": "text/x-python",
   "name": "python",
   "nbconvert_exporter": "python",
   "pygments_lexer": "ipython3",
   "version": "3.12.10"
  }
 },
 "nbformat": 4,
 "nbformat_minor": 5
}
