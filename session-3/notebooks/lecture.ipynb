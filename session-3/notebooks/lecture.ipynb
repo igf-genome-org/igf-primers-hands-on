{
 "cells": [
  {
   "cell_type": "markdown",
   "id": "c995258a",
   "metadata": {},
   "source": [
    "# A primer on data visualization in research"
   ]
  },
  {
   "cell_type": "markdown",
   "id": "fb7bd43a",
   "metadata": {},
   "source": [
    "## A simple gene expression study"
   ]
  },
  {
   "cell_type": "markdown",
   "id": "11947cb4",
   "metadata": {},
   "source": [
    "In this visualization example we will create a volcano plot in order to find up-regulated and down-regulated genes based on a set of gene expression data. The fold change is pre-computed based on the expression data, and included in the dataset.\n",
    "\n",
    "The provided dataset is currently being used in a pharmacogenomics study in order to evaluate the effect of DNA regulation on drug response."
   ]
  },
  {
   "cell_type": "markdown",
   "id": "bddd7e97",
   "metadata": {},
   "source": [
    "### Import pandas and altair"
   ]
  },
  {
   "cell_type": "markdown",
   "id": "67436452",
   "metadata": {},
   "source": [
    "Activate the relevant libraries for the analysis.\n",
    "\n",
    "If you get an error, try running the following code in the command line:\n",
    "```bash\n",
    "python3 -m pip install pandas\n",
    "python3 -m pip install altair[all]\n",
    "```\n",
    "\n",
    "If this doesn't work you might have to install the packages using `python` instead of `python3` in the above commands.\n",
    "\n",
    "In case of emergency, add the following commands to the cell below:\n",
    "```python\n",
    "%pip install pandas\n",
    "%pip install altair[all]\n",
    "```"
   ]
  },
  {
   "cell_type": "code",
   "execution_count": null,
   "id": "007b1e29",
   "metadata": {},
   "outputs": [],
   "source": [
    "import pandas as pd\n",
    "import altair as alt\n",
    "import math\n",
    "import os\n",
    "\n",
    "alt.data_transformers.enable(\"vegafusion\")"
   ]
  },
  {
   "cell_type": "markdown",
   "id": "387241eb",
   "metadata": {},
   "source": [
    "### Load the dataset into a dataframe"
   ]
  },
  {
   "cell_type": "markdown",
   "id": "1a018755",
   "metadata": {},
   "source": [
    "We start by creating our dataframe from the provided `.csv` data. Note that we are only inspecting the top 5 entries, since our dataframe consists of 12621 rows!"
   ]
  },
  {
   "cell_type": "code",
   "execution_count": null,
   "id": "2a04e027",
   "metadata": {},
   "outputs": [],
   "source": [
    "df = pd.read_csv(os.path.realpath(\"../data/raw/gene-expression-data.csv\"))\n",
    "df.head()"
   ]
  },
  {
   "cell_type": "markdown",
   "id": "9a9428a8",
   "metadata": {},
   "source": [
    "### Data analysis"
   ]
  },
  {
   "cell_type": "markdown",
   "id": "497909dc",
   "metadata": {},
   "source": [
    "We first perform our data analysis. We compare our dataframe to certain thresholds in order to define which genes are differentially expressed, and thus expressed more (upregulated) or expressed less (downregulated) than normally expected. This is calculated based on our `log10(foldchange)` (the `logFC` column), which expresses the difference in expression in comparison with the baseline."
   ]
  },
  {
   "cell_type": "markdown",
   "id": "2425d868",
   "metadata": {},
   "source": [
    "#### Define thresholds"
   ]
  },
  {
   "cell_type": "markdown",
   "id": "a43651b0",
   "metadata": {},
   "source": [
    "We use a simple confidence threshold of $0.05$. Statistically speaking we would need to perform a correction (something like a [Bonferroni correction](https://en.wikipedia.org/wiki/Bonferroni_correction)), since we are performing multiple statistical tests, but we'll disregard that for now.\n",
    "\n",
    "We are also using an arbitrarily defined threshold of $0.6$ for our fold-change."
   ]
  },
  {
   "cell_type": "code",
   "execution_count": null,
   "id": "91ed389a",
   "metadata": {},
   "outputs": [],
   "source": [
    "CONFIDENCE = 0.05\n",
    "REGULATION = 0.6"
   ]
  },
  {
   "cell_type": "markdown",
   "id": "bc41a718",
   "metadata": {},
   "source": [
    "#### Perform comparisons with the defined thresholds"
   ]
  },
  {
   "cell_type": "code",
   "execution_count": null,
   "id": "13846a8b",
   "metadata": {},
   "outputs": [],
   "source": [
    "df[\"expression\"] = \"NORMAL\"\n",
    "df.loc[(df[\"adj.P.Val\"] < CONFIDENCE) & (df[\"logFC\"] > REGULATION), \"expression\"] = \"UP\"\n",
    "df.loc[(df[\"adj.P.Val\"] < CONFIDENCE) & (df[\"logFC\"] < -REGULATION), \"expression\"] = \"DOWN\"\n",
    "\n",
    "df.head()"
   ]
  },
  {
   "cell_type": "markdown",
   "id": "0b4060b3",
   "metadata": {},
   "source": [
    "### Data visualization"
   ]
  },
  {
   "cell_type": "markdown",
   "id": "6943b5b6",
   "metadata": {},
   "source": [
    "We start by visualizing our data in a normal scatter plot."
   ]
  },
  {
   "cell_type": "code",
   "execution_count": null,
   "id": "20f5f36e",
   "metadata": {},
   "outputs": [],
   "source": [
    "scatter = alt.Chart(df).mark_circle(size=60).encode(\n",
    "    x='logFC',\n",
    "    y='adj.P.Val',\n",
    ").interactive()\n",
    "\n",
    "scatter"
   ]
  },
  {
   "cell_type": "code",
   "execution_count": null,
   "id": "6bc00d23",
   "metadata": {},
   "outputs": [],
   "source": [
    "# Check our data to see why our result is weird\n",
    "df.describe()"
   ]
  },
  {
   "cell_type": "markdown",
   "id": "0e649e72",
   "metadata": {},
   "source": [
    "As you can see, we are getting no results. This is because of the range of the `adj.P.Val` column (in relation to the `logFC` column). We need to correct for this by taking the $-log10$ of our p-values."
   ]
  },
  {
   "cell_type": "code",
   "execution_count": null,
   "id": "1fb98c60",
   "metadata": {},
   "outputs": [],
   "source": [
    "df[\"logp\"] = -df[\"adj.P.Val\"].apply(math.log10)\n",
    "df.head()"
   ]
  },
  {
   "cell_type": "code",
   "execution_count": null,
   "id": "cda3ee0d",
   "metadata": {},
   "outputs": [],
   "source": [
    "# Better!\n",
    "df.describe()"
   ]
  },
  {
   "cell_type": "markdown",
   "id": "9bba0863",
   "metadata": {},
   "source": [
    "Now we are ready to visualize our data in a very standard volcano plot."
   ]
  },
  {
   "cell_type": "code",
   "execution_count": null,
   "id": "57369352",
   "metadata": {},
   "outputs": [],
   "source": [
    "scatter = alt.Chart(df).mark_circle(size=60).encode(\n",
    "    x='logFC',\n",
    "    y='logp',\n",
    ").interactive()\n",
    "\n",
    "scatter"
   ]
  },
  {
   "cell_type": "markdown",
   "id": "541ad530",
   "metadata": {},
   "source": [
    "### Interpreting the data"
   ]
  },
  {
   "cell_type": "markdown",
   "id": "98a325df",
   "metadata": {},
   "source": [
    "It's time to apply our thresholds to the visualization. Let's start by plotting the thresholds in our volcano plot as lines in order to visualize what we are doing.\n",
    "\n",
    "Note that we are taking the $-log10$ of our p-value threshold, since it has to be adjusted to our new scaling."
   ]
  },
  {
   "cell_type": "code",
   "execution_count": null,
   "id": "e971c437",
   "metadata": {},
   "outputs": [],
   "source": [
    "pval = alt.Chart(pd.DataFrame({'y': [-math.log10(CONFIDENCE)]})).mark_rule(color=\"red\").encode(y='y')\n",
    "\n",
    "updownreg = alt.Chart(pd.DataFrame({'x': [-REGULATION, REGULATION]})).mark_rule(color=\"red\").encode(x='x')\n",
    "\n",
    "scatter_thresholds = scatter + pval + updownreg\n",
    "scatter_thresholds"
   ]
  },
  {
   "cell_type": "markdown",
   "id": "cd55d543",
   "metadata": {},
   "source": [
    "It's more intuitive to show our thresholds by using colours instead of lines. The following code maps our `expression` column to either a red (upregulated), black (normal) or blue (downregulated) colour."
   ]
  },
  {
   "cell_type": "code",
   "execution_count": null,
   "id": "840973fd",
   "metadata": {},
   "outputs": [],
   "source": [
    "domain = df[\"expression\"].unique()\n",
    "range_ = [\"red\", \"blue\", \"black\"]\n",
    "\n",
    "volcano = alt.Chart(df).mark_circle(size=60).encode(\n",
    "    x='logFC',\n",
    "    y='logp',\n",
    "    color=alt.Color('expression', scale=alt.Scale(domain=domain, range=range_)).title(\"Gene regulation\"),\n",
    ").interactive()\n",
    "volcano"
   ]
  },
  {
   "cell_type": "markdown",
   "id": "b5ba33d0",
   "metadata": {},
   "source": [
    "### Final visualization and drawing conclusions"
   ]
  },
  {
   "cell_type": "markdown",
   "id": "4c099704",
   "metadata": {},
   "source": [
    "We will finalize our visualization by adding names to the five most upregulated and downregulated genes. We will use this to draw our conclusions.\n",
    "\n",
    "First we calculate which genes we need, and add their names to a separate column. This column only contains a name for our found genes, and nothing (an empty string as it's called `\"\"`, this represents the absence of text) for the other genes."
   ]
  },
  {
   "cell_type": "code",
   "execution_count": null,
   "id": "fbbe5cf7",
   "metadata": {},
   "outputs": [],
   "source": [
    "# Define the amount of hits we are looking for\n",
    "N_TOP_HITS = 5\n",
    "\n",
    "# Find the five most upregulated genes\n",
    "max_up = df.loc[df[\"expression\"] == \"UP\", [\"Gene.symbol\", \"logFC\"]]\n",
    "max_up.sort_values(\"logFC\", ascending=False, inplace=True)\n",
    "max_up = list(max_up[\"Gene.symbol\"][:N_TOP_HITS])\n",
    "\n",
    "# Find the five most downregulated genes\n",
    "max_down = df.loc[df[\"expression\"] == \"DOWN\", [\"Gene.symbol\", \"logFC\"]]\n",
    "max_down.sort_values(\"logFC\", ascending=True, inplace=True)\n",
    "max_down = list(max_down[\"Gene.symbol\"][:N_TOP_HITS])\n",
    "\n",
    "# Only add labels for the found genes\n",
    "def filter_labels(genename):\n",
    "    if genename in max_up or genename in max_down:\n",
    "        return genename\n",
    "    else:\n",
    "        return \"\"\n",
    "\n",
    "df[\"label\"] = df[\"Gene.symbol\"].apply(filter_labels)\n",
    "df.head()"
   ]
  },
  {
   "cell_type": "markdown",
   "id": "395e9290",
   "metadata": {},
   "source": [
    "Then we add this new column to our visualization as a label for our datapoints."
   ]
  },
  {
   "cell_type": "code",
   "execution_count": null,
   "id": "073b8a61",
   "metadata": {},
   "outputs": [],
   "source": [
    "# Apply the labels to our plot\n",
    "text = volcano.mark_text(\n",
    "    align='left',\n",
    "    baseline='middle',\n",
    "    dx=7\n",
    ").encode(\n",
    "    text='label'\n",
    ")\n",
    "\n",
    "volcano + text"
   ]
  },
  {
   "cell_type": "markdown",
   "id": "5e46d0a5",
   "metadata": {},
   "source": [
    "Using our volcano plot, we can conclude that PYGM is the most downregulated gene, while MMP1 is the most upregulated gene."
   ]
  }
 ],
 "metadata": {
  "kernelspec": {
   "display_name": "Python 3 (ipykernel)",
   "language": "python",
   "name": "python3"
  },
  "language_info": {
   "codemirror_mode": {
    "name": "ipython",
    "version": 3
   },
   "file_extension": ".py",
   "mimetype": "text/x-python",
   "name": "python",
   "nbconvert_exporter": "python",
   "pygments_lexer": "ipython3",
   "version": "3.12.10"
  }
 },
 "nbformat": 4,
 "nbformat_minor": 5
}
