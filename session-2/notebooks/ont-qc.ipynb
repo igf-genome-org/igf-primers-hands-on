{
 "cells": [
  {
   "cell_type": "code",
   "execution_count": null,
   "id": "26fdf955-8d11-433c-8438-f05fa74caea4",
   "metadata": {},
   "outputs": [],
   "source": [
    "%%bash\n",
    "wget https://ont-exd-int-s3-euwst1-epi2me-labs.s3.amazonaws.com/wf-16s/wf-16s-demo.tar.gz -nc\n",
    "tar -xzvf wf-16s-demo.tar.gz"
   ]
  },
  {
   "cell_type": "code",
   "execution_count": null,
   "id": "7d119742-9f98-4ff0-afb0-1c53c85da135",
   "metadata": {},
   "outputs": [],
   "source": [
    "%%bash\n",
    "NanoPlot -h"
   ]
  },
  {
   "cell_type": "code",
   "execution_count": null,
   "id": "f61d0caf-e455-4bf9-9294-794996cb16ce",
   "metadata": {},
   "outputs": [],
   "source": [
    "%%bash\n",
    "NanoPlot -o barcode01 --fastq wf-16s-demo/test_data/barcode01/reads1_subset.fastq.gz -t 2"
   ]
  },
  {
   "cell_type": "code",
   "execution_count": null,
   "id": "9c5a719c-6490-4bad-ab20-3883b24a882c",
   "metadata": {},
   "outputs": [],
   "source": [
    "%%bash\n",
    "NanoPlot -h"
   ]
  },
  {
   "cell_type": "code",
   "execution_count": null,
   "id": "3c44e8d3-7819-4936-baf8-a3bacc94102c",
   "metadata": {},
   "outputs": [],
   "source": []
  }
 ],
 "metadata": {
  "kernelspec": {
   "display_name": "Python 3 (ipykernel)",
   "language": "python",
   "name": "python3"
  },
  "language_info": {
   "codemirror_mode": {
    "name": "ipython",
    "version": 3
   },
   "file_extension": ".py",
   "mimetype": "text/x-python",
   "name": "python",
   "nbconvert_exporter": "python",
   "pygments_lexer": "ipython3",
   "version": "3.12.10"
  }
 },
 "nbformat": 4,
 "nbformat_minor": 5
}
