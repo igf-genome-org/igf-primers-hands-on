{
 "cells": [
  {
   "cell_type": "markdown",
   "id": "19a7cb64",
   "metadata": {},
   "source": [
    "## IGF Primers - Hands On Session 2\n",
    "### Quality Control data NGS\n",
    "\n",
    "Pada tutorial ini kita akan mengevaluasi hasil yang diperoleh dari sequencing menggunakan ONT.\n",
    "\n",
    "Untuk itu, kita akan mengunduh contoh data yang tersedia dari platform EPI2ME"
   ]
  },
  {
   "cell_type": "code",
   "execution_count": null,
   "id": "26fdf955-8d11-433c-8438-f05fa74caea4",
   "metadata": {},
   "outputs": [],
   "source": [
    "%%bash\n",
    "wget https://ont-exd-int-s3-euwst1-epi2me-labs.s3.amazonaws.com/wf-16s/wf-16s-demo.tar.gz -nc\n",
    "tar -xzvf wf-16s-demo.tar.gz"
   ]
  },
  {
   "cell_type": "markdown",
   "id": "816c7dc2",
   "metadata": {},
   "source": [
    "Poin diskusi:\n",
    "- Apa itu proses demultiplexing?\n",
    "- Ada berapa sampel yang diperoleh dari proses demultiplexing?\n",
    "- Kenapa ada hasil yang `unclassified`?\n",
    "- Untuk apa kegunaan md5 sum? \n",
    "- Seperti apakah struktur data fastq?"
   ]
  },
  {
   "cell_type": "code",
   "execution_count": null,
   "id": "4e6a780a",
   "metadata": {},
   "outputs": [],
   "source": [
    "%%bash\n",
    "zcat wf-16s-demo/test_data/barcode01/reads1_subset.fastq.gz | head -n 4"
   ]
  },
  {
   "cell_type": "markdown",
   "id": "b9e52813",
   "metadata": {},
   "source": [
    "Selanjutnya, kita akan melakukan QC dengan menggunakan [NanoPlot](https://github.com/wdecoster/NanoPlot). Tools ini sudah terinstall di resep environment yang disiapkan, namun dapat diinstal juga melalui conda atau pip dengan cara:\n",
    "\n",
    "```bash\n",
    "# dengan conda\n",
    "conda install -c bioconda nanoplot\n",
    "\n",
    "# atau \n",
    "\n",
    "# dengan pip\n",
    "pip install NanoPlot\n",
    "```"
   ]
  },
  {
   "cell_type": "markdown",
   "id": "4870b821",
   "metadata": {},
   "source": [
    "Kita dapat menggunakan fungsi help untuk melihat semua parameter yang tersedia dari NanoPlot"
   ]
  },
  {
   "cell_type": "code",
   "execution_count": null,
   "id": "7d119742-9f98-4ff0-afb0-1c53c85da135",
   "metadata": {},
   "outputs": [],
   "source": [
    "%%bash\n",
    "NanoPlot -h"
   ]
  },
  {
   "cell_type": "markdown",
   "id": "ce0c108e",
   "metadata": {},
   "source": [
    "Untuk nge-running NanoPlot, bisa kita gunakan command berikut:"
   ]
  },
  {
   "cell_type": "code",
   "execution_count": 3,
   "id": "f61d0caf-e455-4bf9-9294-794996cb16ce",
   "metadata": {},
   "outputs": [],
   "source": [
    "%%bash\n",
    "NanoPlot -o barcode01_reads1 --fastq wf-16s-demo/test_data/barcode01/reads1_subset.fastq.gz -t 2"
   ]
  },
  {
   "cell_type": "markdown",
   "id": "4d04ed32",
   "metadata": {},
   "source": [
    "Jika kita perhatikan, ada lebih dari satu file fastq yang ada dari hasil sequencing, Bagaimana cara kita melakukan QC dengan NanoPlot dengan lebih efisien, supaya tidak perlu menulis script berulang-ulang?\n",
    "\n",
    "Kita bisa menggunakan `for loop` yang tersedia dari UNIX:"
   ]
  },
  {
   "cell_type": "code",
   "execution_count": null,
   "id": "bb8e9ba9",
   "metadata": {},
   "outputs": [],
   "source": [
    "%%bash\n",
    "#!/bin/bash\n",
    "\n",
    "# Directory containing the fastq folders\n",
    "FASTQ_DIR=\"wf-16s-demo/test_data\"\n",
    "OUTPUT_DIR=\"output_data\"\n",
    "mkdir -p \"$OUTPUT_DIR\"\n",
    "\n",
    "# Iterate over each folder in the fastq directory\n",
    "for folder in \"$FASTQ_DIR\"/*; do\n",
    "  if [ -d \"$folder\" ]; then\n",
    "    # Extract the folder name\n",
    "    folder_name=$(basename \"$folder\")\n",
    "    \n",
    "    # Print message to track progress\n",
    "    echo \"Running NanoPlot for folder: $folder_name\"\n",
    "    \n",
    "    # Merge FastQ\n",
    "    temp_fastq=\"$OUTPUT_DIR/$folder_name.fastq.gz\"\n",
    "    cat \"$folder\"/*.fastq.gz > \"$temp_fastq\"\n",
    "\n",
    "    # Run NanoPlot for the folder\n",
    "    NanoPlot --fastq \"$temp_fastq\" -t 2 -o \"$OUTPUT_DIR/$folder_name\"\n",
    "\n",
    "    # Print message after completion\n",
    "    echo \"Completed NanoPlot for folder: $folder_name\"\n",
    "  fi\n",
    "done"
   ]
  }
 ],
 "metadata": {
  "kernelspec": {
   "display_name": "igf-primers",
   "language": "python",
   "name": "python3"
  },
  "language_info": {
   "codemirror_mode": {
    "name": "ipython",
    "version": 3
   },
   "file_extension": ".py",
   "mimetype": "text/x-python",
   "name": "python",
   "nbconvert_exporter": "python",
   "pygments_lexer": "ipython3",
   "version": "3.12.10"
  }
 },
 "nbformat": 4,
 "nbformat_minor": 5
}
